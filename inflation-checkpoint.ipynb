{
 "cells": [
  {
   "cell_type": "code",
   "execution_count": 1,
   "id": "186aa9a5-cf8e-4cf2-afef-64f5b37fd110",
   "metadata": {},
   "outputs": [],
   "source": [
    "import pandas as pd\n",
    "import numpy as np"
   ]
  },
  {
   "cell_type": "code",
   "execution_count": 2,
   "id": "84259826-4017-45db-9b9a-f55844edc928",
   "metadata": {},
   "outputs": [
    {
     "name": "stdout",
     "output_type": "stream",
     "text": [
      "  country_name                                   indicator_name  1980  1981  \\\n",
      "0  Afghanistan  Annual average inflation (consumer prices) rate  13.4  22.2   \n",
      "1      Albania  Annual average inflation (consumer prices) rate   NaN   NaN   \n",
      "2      Algeria  Annual average inflation (consumer prices) rate   9.7  14.6   \n",
      "3      Andorra  Annual average inflation (consumer prices) rate   NaN   NaN   \n",
      "4       Angola  Annual average inflation (consumer prices) rate  46.7   1.4   \n",
      "\n",
      "   1982  1983  1984  1985  1986  1987  ...  2015   2016   2017   2018  2019  \\\n",
      "0  18.2  15.9  20.4   8.7  -2.1  18.4  ... -0.66   4.38   4.98   0.63   2.3   \n",
      "1   NaN   NaN   NaN   NaN   NaN   NaN  ...  1.90   1.30   2.00   2.00   1.4   \n",
      "2   6.6   7.8   6.3  10.4  14.0   5.9  ...  4.80   6.40   5.60   4.30   2.0   \n",
      "3   NaN   NaN   NaN   NaN   NaN   NaN  ... -1.10  -0.40   2.60   1.00   0.5   \n",
      "4   1.8   1.8   1.8   1.8   1.8   1.8  ...  9.20  30.70  29.80  19.60  17.1   \n",
      "\n",
      "    2020   2021   2022  2023  2024  \n",
      "0   5.44   5.06  13.71   9.1   NaN  \n",
      "1   1.60   2.00   6.70   4.8   4.0  \n",
      "2   2.40   7.20   9.30   9.0   6.8  \n",
      "3   0.10   1.70   6.20   5.2   3.5  \n",
      "4  22.30  25.80  21.40  13.1  22.3  \n",
      "\n",
      "[5 rows x 47 columns]\n"
     ]
    }
   ],
   "source": [
    "df=pd.read_csv('global_inflation_data.csv')\n",
    "print(df.head())"
   ]
  },
  {
   "cell_type": "code",
   "execution_count": 3,
   "id": "5478b614-af24-415b-b1dc-ceb8bd9043dc",
   "metadata": {},
   "outputs": [
    {
     "name": "stdout",
     "output_type": "stream",
     "text": [
      "<class 'pandas.core.frame.DataFrame'>\n",
      "RangeIndex: 196 entries, 0 to 195\n",
      "Data columns (total 47 columns):\n",
      " #   Column          Non-Null Count  Dtype  \n",
      "---  ------          --------------  -----  \n",
      " 0   country_name    196 non-null    object \n",
      " 1   indicator_name  196 non-null    object \n",
      " 2   1980            140 non-null    float64\n",
      " 3   1981            144 non-null    float64\n",
      " 4   1982            145 non-null    float64\n",
      " 5   1983            145 non-null    float64\n",
      " 6   1984            145 non-null    float64\n",
      " 7   1985            145 non-null    float64\n",
      " 8   1986            145 non-null    float64\n",
      " 9   1987            147 non-null    float64\n",
      " 10  1988            147 non-null    float64\n",
      " 11  1989            147 non-null    float64\n",
      " 12  1990            150 non-null    float64\n",
      " 13  1991            155 non-null    float64\n",
      " 14  1992            158 non-null    float64\n",
      " 15  1993            169 non-null    float64\n",
      " 16  1994            171 non-null    float64\n",
      " 17  1995            172 non-null    float64\n",
      " 18  1996            176 non-null    float64\n",
      " 19  1997            179 non-null    float64\n",
      " 20  1998            181 non-null    float64\n",
      " 21  1999            182 non-null    float64\n",
      " 22  2000            183 non-null    float64\n",
      " 23  2001            187 non-null    float64\n",
      " 24  2002            189 non-null    float64\n",
      " 25  2003            190 non-null    float64\n",
      " 26  2004            191 non-null    float64\n",
      " 27  2005            193 non-null    float64\n",
      " 28  2006            193 non-null    float64\n",
      " 29  2007            193 non-null    float64\n",
      " 30  2008            193 non-null    float64\n",
      " 31  2009            193 non-null    float64\n",
      " 32  2010            193 non-null    float64\n",
      " 33  2011            192 non-null    float64\n",
      " 34  2012            193 non-null    float64\n",
      " 35  2013            194 non-null    float64\n",
      " 36  2014            194 non-null    float64\n",
      " 37  2015            194 non-null    float64\n",
      " 38  2016            194 non-null    float64\n",
      " 39  2017            195 non-null    float64\n",
      " 40  2018            195 non-null    float64\n",
      " 41  2019            195 non-null    float64\n",
      " 42  2020            194 non-null    float64\n",
      " 43  2021            194 non-null    float64\n",
      " 44  2022            194 non-null    float64\n",
      " 45  2023            192 non-null    float64\n",
      " 46  2024            191 non-null    float64\n",
      "dtypes: float64(45), object(2)\n",
      "memory usage: 72.1+ KB\n",
      "None\n"
     ]
    }
   ],
   "source": [
    "print(df.info())"
   ]
  },
  {
   "cell_type": "code",
   "execution_count": 4,
   "id": "0cf4af42-ec00-4f24-bbd8-8b0e44dbb603",
   "metadata": {},
   "outputs": [
    {
     "name": "stdout",
     "output_type": "stream",
     "text": [
      "             1980        1981        1982        1983         1984  \\\n",
      "count  140.000000  144.000000  145.000000  145.000000   145.000000   \n",
      "mean    21.757143   17.796528   17.029655   19.177241    26.979310   \n",
      "std     33.656118   18.992691   22.797064   34.806824   111.889811   \n",
      "min     -7.300000    0.000000   -0.900000   -8.500000    -7.400000   \n",
      "25%      9.550000    8.600000    6.100000    5.000000     3.800000   \n",
      "50%     13.850000   12.500000   10.300000    8.700000     8.000000   \n",
      "75%     20.525000   19.800000   16.700000   16.000000    17.100000   \n",
      "max    316.600000  116.800000  123.600000  275.600000  1281.300000   \n",
      "\n",
      "               1985        1986          1987         1988         1989  ...  \\\n",
      "count    145.000000  145.000000    147.000000   147.000000   147.000000  ...   \n",
      "mean     103.215172   25.262069    111.294558    58.635374   101.246259  ...   \n",
      "std      975.748316   86.931210   1081.094434   400.370989   679.792142  ...   \n",
      "min      -16.000000  -17.600000    -31.200000   -13.000000    -9.600000  ...   \n",
      "25%        2.800000    1.800000      2.150000     2.550000     3.350000  ...   \n",
      "50%        7.100000    5.800000      5.900000     6.800000     6.900000  ...   \n",
      "75%       16.800000   18.200000     16.650000    17.800000    16.700000  ...   \n",
      "max    11749.600000  885.200000  13109.500000  4775.200000  7428.700000  ...   \n",
      "\n",
      "             2015        2016        2017          2018          2019  \\\n",
      "count  194.000000  194.000000  195.000000    195.000000    195.000000   \n",
      "mean     4.116186    6.594742    7.656821    339.688359    107.294872   \n",
      "std     10.763149   31.096216   34.954954   4681.227548   1425.256254   \n",
      "min     -3.800000   -5.600000  -13.300000    -44.400000     -3.200000   \n",
      "25%      0.100000    0.100000    1.150000      1.300000      0.800000   \n",
      "50%      1.500000    1.500000    2.400000      2.500000      2.200000   \n",
      "75%      4.800000    5.125000    5.200000      4.300000      4.000000   \n",
      "max    121.700000  346.100000  438.100000  65374.100000  19906.000000   \n",
      "\n",
      "              2020         2021        2022        2023        2024  \n",
      "count   194.000000   194.000000  194.000000  192.000000  191.000000  \n",
      "mean     19.832680    16.577629   13.616031   13.736458    9.309424  \n",
      "std     173.722612   117.154632   25.282229   39.667874   25.195589  \n",
      "min      -2.600000    -3.000000   -3.200000   -0.800000    1.200000  \n",
      "25%       0.400000     1.925000    5.500000    4.000000    2.800000  \n",
      "50%       1.900000     3.500000    8.100000    5.800000    4.000000  \n",
      "75%       4.575000     5.975000   11.975000    9.925000    5.800000  \n",
      "max    2355.100000  1588.500000  193.400000  360.000000  222.400000  \n",
      "\n",
      "[8 rows x 45 columns]\n"
     ]
    }
   ],
   "source": [
    "print(df.describe())"
   ]
  },
  {
   "cell_type": "code",
   "execution_count": 5,
   "id": "f10f98d5-f6de-4993-b31e-449a05bb995a",
   "metadata": {},
   "outputs": [
    {
     "name": "stdout",
     "output_type": "stream",
     "text": [
      "country_name       0\n",
      "indicator_name     0\n",
      "1980              56\n",
      "1981              52\n",
      "1982              51\n",
      "1983              51\n",
      "1984              51\n",
      "1985              51\n",
      "1986              51\n",
      "1987              49\n",
      "1988              49\n",
      "1989              49\n",
      "1990              46\n",
      "1991              41\n",
      "1992              38\n",
      "1993              27\n",
      "1994              25\n",
      "1995              24\n",
      "1996              20\n",
      "1997              17\n",
      "1998              15\n",
      "1999              14\n",
      "2000              13\n",
      "2001               9\n",
      "2002               7\n",
      "2003               6\n",
      "2004               5\n",
      "2005               3\n",
      "2006               3\n",
      "2007               3\n",
      "2008               3\n",
      "2009               3\n",
      "2010               3\n",
      "2011               4\n",
      "2012               3\n",
      "2013               2\n",
      "2014               2\n",
      "2015               2\n",
      "2016               2\n",
      "2017               1\n",
      "2018               1\n",
      "2019               1\n",
      "2020               2\n",
      "2021               2\n",
      "2022               2\n",
      "2023               4\n",
      "2024               5\n",
      "dtype: int64\n"
     ]
    }
   ],
   "source": [
    "print(df.isnull().sum())"
   ]
  },
  {
   "cell_type": "code",
   "execution_count": 6,
   "id": "c1dd0843-2db3-42a3-beb7-f4d49d178142",
   "metadata": {},
   "outputs": [
    {
     "name": "stdout",
     "output_type": "stream",
     "text": [
      "  country_name                                   indicator_name  year  \\\n",
      "0  Afghanistan  Annual average inflation (consumer prices) rate  1980   \n",
      "1      Albania  Annual average inflation (consumer prices) rate  1980   \n",
      "2      Algeria  Annual average inflation (consumer prices) rate  1980   \n",
      "3      Andorra  Annual average inflation (consumer prices) rate  1980   \n",
      "4       Angola  Annual average inflation (consumer prices) rate  1980   \n",
      "\n",
      "   inflation_rate  \n",
      "0            13.4  \n",
      "1             NaN  \n",
      "2             9.7  \n",
      "3             NaN  \n",
      "4            46.7  \n"
     ]
    }
   ],
   "source": [
    "year_cols=[str(year) for year in range(1980,2025)]\n",
    "df_long=df.melt(id_vars=['country_name','indicator_name'],\n",
    "                value_vars=year_cols,\n",
    "                var_name='year',\n",
    "                value_name='inflation_rate')\n",
    "print(df_long.head())"
   ]
  },
  {
   "cell_type": "code",
   "execution_count": 7,
   "id": "ddd69f54-b0a1-41c9-88aa-d0475acd5377",
   "metadata": {},
   "outputs": [],
   "source": [
    "df_long['year']=df_long['year'].astype(int)"
   ]
  },
  {
   "cell_type": "code",
   "execution_count": 8,
   "id": "a4d08462-0163-4d41-aee0-1f4dbc8940a8",
   "metadata": {},
   "outputs": [
    {
     "name": "stdout",
     "output_type": "stream",
     "text": [
      "country_name        0\n",
      "indicator_name      0\n",
      "year                0\n",
      "inflation_rate    868\n",
      "dtype: int64\n"
     ]
    }
   ],
   "source": [
    "print(df_long.isnull().sum())\n",
    "df_long=df_long.dropna(subset=['inflation_rate'])"
   ]
  },
  {
   "cell_type": "code",
   "execution_count": 9,
   "id": "7d44d50f-c6e8-4dca-b434-bb59724f5ab3",
   "metadata": {},
   "outputs": [
    {
     "name": "stdout",
     "output_type": "stream",
     "text": [
      "country_name\n",
      "Venezuela                  2041.728889\n",
      "Congo, Dem. Rep. of the     791.651111\n",
      "Nicaragua                   676.153333\n",
      "Bolivia                     311.904444\n",
      "Armenia                     291.196875\n",
      "Peru                        288.193333\n",
      "Brazil                      263.780000\n",
      "Angola                      249.820000\n",
      "Ukraine                     232.196970\n",
      "Turkmenistan                223.990625\n",
      "Name: inflation_rate, dtype: float64\n"
     ]
    }
   ],
   "source": [
    "avg_inflation=df_long.groupby('country_name')['inflation_rate'].mean().sort_values(ascending=False)\n",
    "print(avg_inflation.head(10))"
   ]
  },
  {
   "cell_type": "code",
   "execution_count": 10,
   "id": "37a4a245-2d24-4e39-b446-b610bc81fe5a",
   "metadata": {},
   "outputs": [
    {
     "name": "stdout",
     "output_type": "stream",
     "text": [
      "      year  inflation_rate\n",
      "77    1980            11.3\n",
      "273   1981            12.7\n",
      "469   1982             7.7\n",
      "665   1983            12.6\n",
      "861   1984             6.5\n",
      "1057  1985             6.3\n",
      "1253  1986             8.9\n",
      "1449  1987             9.1\n",
      "1645  1988             7.2\n",
      "1841  1989             4.6\n",
      "2037  1990            11.2\n",
      "2233  1991            13.5\n",
      "2429  1992             9.9\n",
      "2625  1993             7.3\n",
      "2821  1994            10.3\n",
      "3017  1995            10.0\n",
      "3213  1996             9.4\n",
      "3409  1997             6.8\n",
      "3605  1998            13.1\n",
      "3801  1999             5.7\n",
      "3997  2000             3.8\n",
      "4193  2001             4.3\n",
      "4389  2002             4.0\n",
      "4585  2003             3.9\n",
      "4781  2004             3.8\n",
      "4977  2005             4.4\n",
      "5173  2006             6.7\n",
      "5369  2007             6.2\n",
      "5565  2008             9.1\n",
      "5761  2009            12.3\n",
      "5957  2010            10.5\n",
      "6153  2011             9.5\n",
      "6349  2012            10.0\n",
      "6545  2013             9.4\n",
      "6741  2014             5.8\n",
      "6937  2015             4.9\n",
      "7133  2016             4.5\n",
      "7329  2017             3.6\n",
      "7525  2018             3.4\n",
      "7721  2019             4.8\n",
      "7917  2020             6.2\n",
      "8113  2021             5.5\n",
      "8309  2022             6.7\n",
      "8505  2023             5.5\n",
      "8701  2024             4.6\n"
     ]
    }
   ],
   "source": [
    "india_inflation=df_long[df_long['country_name']=='India'].sort_values('year')\n",
    "print(india_inflation[['year','inflation_rate']])"
   ]
  },
  {
   "cell_type": "code",
   "execution_count": 11,
   "id": "3377b964-e53d-4b6b-873c-b294bb9c16aa",
   "metadata": {},
   "outputs": [],
   "source": [
    "indicator='consumer price index inflation'\n",
    "df_indicator=df_long[df_long['indicator_name']==indicator]"
   ]
  },
  {
   "cell_type": "code",
   "execution_count": 12,
   "id": "f824203a-2bfa-400a-8218-d9289a199113",
   "metadata": {},
   "outputs": [
    {
     "name": "stdout",
     "output_type": "stream",
     "text": [
      "country_name\n",
      "Venezuela                  2041.728889\n",
      "Congo, Dem. Rep. of the     791.651111\n",
      "Nicaragua                   676.153333\n",
      "Bolivia                     311.904444\n",
      "Armenia                     291.196875\n",
      "Peru                        288.193333\n",
      "Brazil                      263.780000\n",
      "Angola                      249.820000\n",
      "Ukraine                     232.196970\n",
      "Turkmenistan                223.990625\n",
      "Name: inflation_rate, dtype: float64\n"
     ]
    }
   ],
   "source": [
    "import pandas as pd\n",
    "\n",
    "df = pd.read_csv('global_inflation_data.csv')\n",
    "\n",
    "year_cols = [str(year) for year in range(1980, 2025)]\n",
    "\n",
    "df_long = df.melt(id_vars=['country_name', 'indicator_name'],\n",
    "                  value_vars=year_cols,\n",
    "                  var_name='year',\n",
    "                  value_name='inflation_rate')\n",
    "\n",
    "df_long['year'] = df_long['year'].astype(int)\n",
    "df_long = df_long.dropna(subset=['inflation_rate'])\n",
    "\n",
    "# Example analysis\n",
    "print(df_long.groupby('country_name')['inflation_rate'].mean().sort_values(ascending=False).head(10))\n"
   ]
  },
  {
   "cell_type": "markdown",
   "id": "052c5c9b-f4b8-43bb-9fc8-ec3710ee5968",
   "metadata": {},
   "source": [
    "## numpy"
   ]
  },
  {
   "cell_type": "code",
   "execution_count": 13,
   "id": "2f33aad5-786c-43d0-a8d9-4324271daaba",
   "metadata": {},
   "outputs": [],
   "source": [
    "inflation_values=df_long['inflation_rate'].to_numpy()\n",
    "years=df_long['year'].to_numpy()\n",
    "countries=df_long['country_name'].to_numpy()"
   ]
  },
  {
   "cell_type": "code",
   "execution_count": 14,
   "id": "a7e96c57-3849-48ca-8cf2-6f65717bbcc6",
   "metadata": {},
   "outputs": [
    {
     "name": "stdout",
     "output_type": "stream",
     "text": [
      "mean inflation: 42.06944668008048\n"
     ]
    }
   ],
   "source": [
    "mean_inflation=np.mean(inflation_values)\n",
    "print(\"mean inflation:\",mean_inflation)"
   ]
  },
  {
   "cell_type": "code",
   "execution_count": 15,
   "id": "d4439d72-e933-4bf7-bc0b-3a64f91ea60b",
   "metadata": {},
   "outputs": [
    {
     "name": "stdout",
     "output_type": "stream",
     "text": [
      "inflation rate std dev: 861.0643610669113\n"
     ]
    }
   ],
   "source": [
    "std_inflation=np.std(inflation_values)\n",
    "print(\"inflation rate std dev:\",std_inflation)"
   ]
  },
  {
   "cell_type": "code",
   "execution_count": 16,
   "id": "f8869190-3e66-4667-be32-8d745977dc3f",
   "metadata": {},
   "outputs": [
    {
     "name": "stdout",
     "output_type": "stream",
     "text": [
      "inflation rates in 2020: [ 5.4400e+00  1.6000e+00  2.4000e+00  1.0000e-01  2.2300e+01  1.1000e+00\n",
      "  4.2000e+01  1.2000e+00 -1.3000e+00  9.0000e-01  1.4000e+00  2.8000e+00\n",
      "  0.0000e+00 -2.3000e+00  5.6000e+00  5.0000e-01  5.5000e+00  4.0000e-01\n",
      "  1.0000e-01  3.0000e+00  3.0000e+00  9.0000e-01 -1.1000e+00  1.9000e+00\n",
      "  3.2000e+00  1.9000e+00  1.2000e+00  1.9000e+00  7.3000e+00  6.0000e-01\n",
      "  2.9000e+00  2.5000e+00  7.0000e-01  9.0000e-01  4.5000e+00  3.0000e+00\n",
      "  2.5000e+00  2.5000e+00  8.0000e-01  1.1400e+01  1.4000e+00  7.0000e-01\n",
      "  0.0000e+00 -1.1000e+00  3.2000e+00  2.4000e+00  3.0000e-01  1.8000e+00\n",
      " -7.0000e-01  3.8000e+00 -3.0000e-01  5.7000e+00 -4.0000e-01  4.8000e+00\n",
      " -6.0000e-01  3.9000e+00  2.0400e+01 -2.6000e+00  4.0000e-01  5.0000e-01\n",
      "  1.7000e+00  5.9000e+00  5.2000e+00  4.0000e-01  9.9000e+00 -1.3000e+00\n",
      " -7.0000e-01  3.2000e+00  1.0600e+01  1.5000e+00  1.2000e+00  2.2900e+01\n",
      "  3.5000e+00  3.0000e-01  3.3000e+00  2.8000e+00  6.2000e+00  2.0000e+00\n",
      "  3.6400e+01  6.0000e-01 -5.0000e-01 -6.0000e-01 -1.0000e-01  5.2000e+00\n",
      "  0.0000e+00  4.0000e-01  6.8000e+00  5.3000e+00  2.6000e+00  5.0000e-01\n",
      "  2.0000e-01  2.1000e+00  6.3000e+00  5.1000e+00  1.0000e-01  8.4900e+01\n",
      "  5.0000e+00  1.7000e+01  1.5000e+00  1.1000e+00  0.0000e+00  8.0000e-01\n",
      "  4.2000e+00  8.6000e+00 -1.1000e+00 -1.6000e+00  5.0000e-01  8.0000e-01\n",
      " -7.0000e-01  2.4000e+00  2.5000e+00  3.4000e+00  1.0000e+00  3.8000e+00\n",
      "  3.7000e+00 -2.0000e-01  7.0000e-01  3.1000e+00  5.7000e+00  2.2000e+00\n",
      "  1.0000e+00  6.1000e+00  1.1000e+00  1.7000e+00  3.7000e+00  2.9000e+00\n",
      "  1.3200e+01  1.2000e+00  1.3000e+00 -9.0000e-01  1.0700e+01  7.0000e-01\n",
      " -1.6000e+00  4.9000e+00  1.8000e+00  1.8000e+00  2.4000e+00  3.4000e+00\n",
      " -1.0000e-01 -5.0000e-01 -2.5000e+00  2.6000e+00  3.4000e+00  7.7000e+00\n",
      " -1.2000e+00 -1.8000e+00 -6.0000e-01  1.5000e+00 -1.0000e-01  3.4000e+00\n",
      "  2.5000e+00  1.6000e+00  1.2000e+00  1.3400e+01 -2.0000e-01  2.0000e+00\n",
      " -1.0000e-01  3.0000e+00  4.3000e+00  3.3000e+00  2.4000e+01 -3.0000e-01\n",
      "  4.6000e+00  1.6330e+02  3.4900e+01  7.0000e-01 -7.0000e-01  9.8000e+00\n",
      " -2.0000e-01  8.6000e+00  3.3000e+00 -8.0000e-01  5.0000e-01  1.8000e+00\n",
      "  4.0000e-01  6.0000e-01  5.6000e+00  6.1000e+00  1.9000e+00  1.2300e+01\n",
      "  2.8000e+00  2.7000e+00 -2.1000e+00  9.0000e-01  1.3000e+00  9.8000e+00\n",
      "  1.2900e+01  5.3000e+00  2.3551e+03  3.2000e+00 -7.0000e-01  2.1700e+01\n",
      "  1.5700e+01  5.5720e+02]\n"
     ]
    }
   ],
   "source": [
    "mask_2020=years==2020\n",
    "inflation_2020=inflation_values[mask_2020]\n",
    "print(\"inflation rates in 2020:\",inflation_2020)"
   ]
  },
  {
   "cell_type": "code",
   "execution_count": 17,
   "id": "49fffbe1-4a06-48e6-8451-404d0ce4c0f9",
   "metadata": {},
   "outputs": [
    {
     "name": "stdout",
     "output_type": "stream",
     "text": [
      "{'Afghanistan': np.float64(15.253181818181817), 'Albania': np.float64(14.59714285714286), 'Algeria': np.float64(8.49111111111111), 'Andorra': np.float64(2.069565217391305), 'Angola': np.float64(249.81999999999996), 'Antigua and Barbuda': np.float64(3.2333333333333334), 'Argentina': np.float64(25.758333333333336), 'Armenia': np.float64(291.196875), 'Aruba': np.float64(2.8947368421052637), 'Australia': np.float64(4.051111111111111), 'Austria': np.float64(2.6933333333333334), 'Azerbaijan': np.float64(105.74375), 'Bahamas, The': np.float64(3.2244444444444444), 'Bahrain': np.float64(1.655555555555556), 'Bangladesh': np.float64(7.431111111111112), 'Barbados': np.float64(3.1599999999999993), 'Belarus': np.float64(184.37352941176468), 'Belgium': np.float64(2.877777777777778), 'Belize': np.float64(2.486666666666667), 'Benin': np.float64(3.5222222222222217), 'Bhutan': np.float64(6.988888888888888), 'Bolivia': np.float64(311.90444444444444), 'Bosnia and Herzegovina': np.float64(2.256666666666667), 'Botswana': np.float64(8.508888888888887), 'Brazil': np.float64(263.78000000000003), 'Brunei Darussalam': np.float64(1.1372093023255816), 'Bulgaria': np.float64(44.637777777777785), 'Burkina Faso': np.float64(3.5), 'Burundi': np.float64(10.168888888888889), 'Cabo Verde': np.float64(5.3), 'Cambodia': np.float64(19.102631578947364), 'Cameroon': np.float64(4.411111111111111), 'Canada': np.float64(3.1688888888888886), 'Central African Republic': np.float64(4.464444444444444), 'Chad': np.float64(3.8777777777777778), 'Chile': np.float64(9.46), \"China, People's Republic of\": np.float64(4.5249999999999995), 'Colombia': np.float64(13.068888888888889), 'Comoros': np.float64(3.8644444444444446), 'Congo, Dem. Rep. of the': np.float64(791.651111111111), 'Congo, Republic of ': np.float64(2.4888888888888894), 'Costa Rica': np.float64(12.991111111111113), 'Croatia': np.float64(53.346875), 'Cyprus': np.float64(3.2377777777777776), 'Czech Republic': np.float64(3.882758620689655), \"Côte d'Ivoire\": np.float64(3.9711111111111115), 'Denmark': np.float64(3.0066666666666664), 'Djibouti': np.float64(2.961764705882353), 'Dominica': np.float64(3.0288888888888885), 'Dominican Republic': np.float64(12.546666666666665), 'Ecuador': np.float64(20.915555555555553), 'Egypt': np.float64(12.38), 'El Salvador': np.float64(8.004444444444443), 'Equatorial Guinea': np.float64(8.928888888888888), 'Eritrea': np.float64(10.374074074074075), 'Estonia': np.float64(7.23225806451613), 'Eswatini': np.float64(8.955555555555556), 'Ethiopia': np.float64(11.302222222222222), 'Fiji': np.float64(4.253333333333334), 'Finland': np.float64(3.2244444444444444), 'France': np.float64(3.1377777777777776), 'Gabon': np.float64(3.4844444444444447), 'Gambia, The': np.float64(9.088888888888887), 'Georgia': np.float64(5.7749999999999995), 'Germany': np.float64(2.355555555555556), 'Ghana': np.float64(25.931111111111115), 'Greece': np.float64(8.006666666666668), 'Grenada': np.float64(3.282222222222222), 'Guatemala': np.float64(9.102222222222222), 'Guinea': np.float64(16.775555555555556), 'Guinea-Bissau': np.float64(22.662222222222223), 'Guyana': np.float64(14.0), 'Haiti': np.float64(13.128888888888888), 'Honduras': np.float64(9.522222222222222), 'Hong Kong SAR': np.float64(4.048888888888889), 'Hungary': np.float64(9.88888888888889), 'Iceland': np.float64(12.257777777777775), 'India': np.float64(7.5), 'Indonesia': np.float64(8.604444444444445), 'Iran': np.float64(22.15111111111111), 'Iraq': np.float64(8.125000000000002), 'Ireland': np.float64(3.7377777777777776), 'Israel': np.float64(36.39333333333333), 'Italy': np.float64(4.664444444444444), 'Jamaica': np.float64(14.624444444444444), 'Japan': np.float64(1.0711111111111111), 'Jordan': np.float64(4.348888888888888), 'Kazakhstan': np.float64(110.36250000000001), 'Kenya': np.float64(10.628888888888891), 'Kiribati': np.float64(3.0911111111111116), 'Korea, Republic of': np.float64(4.526666666666666), 'Kosovo': np.float64(2.85), 'Kuwait': np.float64(2.5818181818181816), 'Kyrgyz Republic': np.float64(46.46363636363636), 'Lao P.D.R.': np.float64(24.104444444444447), 'Latvia': np.float64(9.678125), 'Lebanon': np.float64(39.858139534883726), 'Lesotho': np.float64(9.057777777777778), 'Liberia': np.float64(10.411538461538463), 'Libya': np.float64(5.984444444444444), 'Lithuania': np.float64(4.320689655172413), 'Luxembourg': np.float64(2.9533333333333336), 'Macao SAR': np.float64(2.882608695652174), 'Madagascar': np.float64(12.726666666666668), 'Malawi': np.float64(19.253333333333334), 'Malaysia': np.float64(2.8266666666666675), 'Maldives': np.float64(5.473333333333333), 'Mali': np.float64(3.54), 'Malta': np.float64(2.4844444444444442), 'Marshall Islands': np.float64(2.5190476190476194), 'Mauritania': np.float64(5.335294117647059), 'Mauritius': np.float64(7.064444444444446), 'Mexico': np.float64(22.499999999999996), 'Micronesia, Fed. States of': np.float64(2.637931034482758), 'Moldova': np.float64(45.825), 'Mongolia': np.float64(32.48235294117647), 'Montenegro': np.float64(5.972), 'Morocco': np.float64(3.7022222222222227), 'Mozambique': np.float64(21.666666666666668), 'Myanmar': np.float64(12.1), 'Namibia': np.float64(7.628571428571429), 'Nauru': np.float64(4.145), 'Nepal': np.float64(8.166666666666668), 'Netherlands': np.float64(2.3659090909090907), 'New Zealand': np.float64(4.5088888888888885), 'Nicaragua': np.float64(676.1533333333333), 'Niger': np.float64(3.295555555555555), 'Nigeria': np.float64(13.544827586206896), 'North Macedonia ': np.float64(17.46875), 'Norway': np.float64(3.7800000000000007), 'Oman': np.float64(1.8399999999999999), 'Pakistan': np.float64(8.946666666666667), 'Palau': np.float64(3.195833333333333), 'Panama': np.float64(2.155555555555556), 'Papua New Guinea': np.float64(6.719999999999998), 'Paraguay': np.float64(11.482222222222223), 'Peru': np.float64(288.1933333333333), 'Philippines': np.float64(7.535555555555555), 'Poland': np.float64(34.22222222222222), 'Portugal': np.float64(6.228888888888888), 'Puerto Rico': np.float64(2.0818181818181825), 'Qatar': np.float64(3.300000000000001), 'Romania': np.float64(32.94666666666666), 'Russian Federation': np.float64(100.10285714285715), 'Rwanda': np.float64(8.002222222222223), 'Saint Kitts and Nevis': np.float64(2.902222222222222), 'Saint Lucia': np.float64(3.195555555555555), 'Saint Vincent and the Grenadines': np.float64(3.2333333333333334), 'Samoa': np.float64(6.266666666666667), 'San Marino': np.float64(2.0318181818181817), 'Saudi Arabia': np.float64(1.3155555555555556), 'Senegal': np.float64(3.7355555555555555), 'Serbia': np.float64(14.110714285714286), 'Seychelles': np.float64(4.237777777777778), 'Sierra Leone': np.float64(30.820000000000007), 'Singapore': np.float64(2.122222222222222), 'Slovak Republic': np.float64(4.945161290322581), 'Slovenia': np.float64(5.69375), 'Solomon Islands': np.float64(8.091111111111111), 'Somalia': np.float64(3.608333333333334), 'South Africa': np.float64(8.49777777777778), 'South Sudan, Republic of': np.float64(66.89999999999999), 'Spain': np.float64(4.58), 'Sri Lanka': np.float64(10.669767441860465), 'Sudan': np.float64(57.728888888888896), 'Suriname': np.float64(22.857777777777777), 'Sweden': np.float64(3.7977777777777773), 'Switzerland': np.float64(1.6177777777777778), 'Syria': np.float64(11.764516129032256), 'São Tomé and Príncipe': np.float64(19.21111111111111), 'Taiwan Province of China': np.float64(2.171111111111111), 'Tajikistan': np.float64(137.696875), 'Tanzania': np.float64(15.31333333333333), 'Thailand': np.float64(3.5066666666666655), 'Timor-Leste': np.float64(4.279166666666667), 'Togo': np.float64(3.931111111111112), 'Tonga': np.float64(6.126666666666668), 'Trinidad and Tobago': np.float64(6.815555555555555), 'Tunisia': np.float64(5.677777777777778), 'Turkmenistan': np.float64(223.99062500000002), 'Tuvalu': np.float64(3.3666666666666667), 'Türkiye, Republic of': np.float64(40.72888888888889), 'Uganda': np.float64(34.51111111111111), 'Ukraine': np.float64(232.19696969696963), 'United Arab Emirates': np.float64(3.531111111111112), 'United Kingdom': np.float64(3.7244444444444436), 'United States': np.float64(3.3288888888888892), 'Uruguay': np.float64(28.208888888888886), 'Uzbekistan': np.float64(108.2090909090909), 'Vanuatu': np.float64(4.448888888888889), 'Venezuela': np.float64(2041.728888888889), 'Vietnam': np.float64(45.211111111111116), 'West Bank and Gaza': np.float64(3.0535714285714293), 'Yemen': np.float64(22.44705882352941), 'Zambia': np.float64(30.3), 'Zimbabwe': np.float64(39.779545454545456)}\n"
     ]
    }
   ],
   "source": [
    "unique_countries = np.unique(countries)\n",
    "\n",
    "avg_inflation_per_country = {}\n",
    "for country in unique_countries:\n",
    "    mask = countries == country\n",
    "    avg_inflation_per_country[country] = np.mean(inflation_values[mask])\n",
    "\n",
    "print(avg_inflation_per_country)\n"
   ]
  },
  {
   "cell_type": "code",
   "execution_count": 18,
   "id": "0b14545b-5b66-4f05-90c7-c980a0217632",
   "metadata": {},
   "outputs": [
    {
     "name": "stdout",
     "output_type": "stream",
     "text": [
      "USA inflation in 2010: []\n"
     ]
    }
   ],
   "source": [
    "mask_usa = countries == 'USA'\n",
    "mask_2010 = years == 2010\n",
    "mask = mask_usa & mask_2010\n",
    "\n",
    "inflation_usa_2010 = inflation_values[mask]\n",
    "print(\"USA inflation in 2010:\", inflation_usa_2010)\n"
   ]
  },
  {
   "cell_type": "code",
   "execution_count": 19,
   "id": "b98eb35a-c9fb-453b-b9fb-57a498580474",
   "metadata": {},
   "outputs": [
    {
     "name": "stdout",
     "output_type": "stream",
     "text": [
      "MSE: 3335629.004541687\n"
     ]
    }
   ],
   "source": [
    "from sklearn.ensemble import RandomForestRegressor\n",
    "from sklearn.model_selection import train_test_split\n",
    "from sklearn.metrics import mean_squared_error\n",
    "import pandas as pd\n",
    "\n",
    "# Create lag features\n",
    "df_long_sorted = df_long.sort_values(['country_name', 'year'])\n",
    "df_long_sorted['prev_year_inflation'] = df_long_sorted.groupby('country_name')['inflation_rate'].shift(1)\n",
    "\n",
    "# Drop rows where lag is NaN\n",
    "df_model = df_long_sorted.dropna(subset=['prev_year_inflation'])\n",
    "\n",
    "# Features and target\n",
    "X = df_model[['prev_year_inflation']]\n",
    "y = df_model['inflation_rate']\n",
    "\n",
    "# Split data\n",
    "X_train, X_test, y_train, y_test = train_test_split(X, y, test_size=0.2, shuffle=True, random_state=42)\n",
    "\n",
    "# Train model\n",
    "model = RandomForestRegressor()\n",
    "model.fit(X_train, y_train)\n",
    "\n",
    "# Predict\n",
    "y_pred = model.predict(X_test)\n",
    "\n",
    "# Evaluate\n",
    "mse = mean_squared_error(y_test, y_pred)\n",
    "print(\"MSE:\", mse)\n"
   ]
  },
  {
   "cell_type": "code",
   "execution_count": 20,
   "id": "d8f90152-508e-48ef-92c0-b838e93fce0f",
   "metadata": {},
   "outputs": [
    {
     "name": "stdin",
     "output_type": "stream",
     "text": [
      "Enter the country name:  india\n",
      "Enter the year (greater than 2024):  2027\n"
     ]
    },
    {
     "name": "stdout",
     "output_type": "stream",
     "text": [
      "📊 Expected inflation in 2027 (India): 5.05%\n"
     ]
    }
   ],
   "source": [
    "import pandas as pd\n",
    "import numpy as np\n",
    "from sklearn.ensemble import RandomForestRegressor\n",
    "\n",
    "# Assuming df_long is your DataFrame with columns: 'country_name', 'year', 'inflation_rate'\n",
    "\n",
    "# ---- Input Section ----\n",
    "input_country = input(\"Enter the country name: \").strip()\n",
    "input_year = int(input(\"Enter the year (greater than 2024): \"))\n",
    "\n",
    "# ---- Filter the Data ----\n",
    "df_country = df_long[df_long['country_name'].str.lower() == input_country.lower()]\n",
    "\n",
    "if df_country.empty:\n",
    "    print(f\"❌ No data available for country: {input_country}\")\n",
    "else:\n",
    "    # ---- Prepare features and target ----\n",
    "    X = df_country[['year']]\n",
    "    y = df_country['inflation_rate']\n",
    "\n",
    "    # ---- Train the model ----\n",
    "    model = RandomForestRegressor()\n",
    "    model.fit(X, y)\n",
    "\n",
    "    # ---- Make prediction ----\n",
    "    future_df = pd.DataFrame({'year': [input_year]})\n",
    "    predicted_inflation = model.predict(future_df)\n",
    "\n",
    "    # ---- Output result ----\n",
    "    print(f\"📊 Expected inflation in {input_year} ({input_country.title()}): {predicted_inflation[0]:.2f}%\")\n"
   ]
  },
  {
   "cell_type": "code",
   "execution_count": 22,
   "id": "c5fd3418-97b3-4334-8791-bb1c5d45655b",
   "metadata": {},
   "outputs": [
    {
     "name": "stdin",
     "output_type": "stream",
     "text": [
      "Enter the country name:  brazil\n",
      "Enter the year (greater than 2024):  2025\n"
     ]
    },
    {
     "name": "stdout",
     "output_type": "stream",
     "text": [
      "📊 Expected inflation in 2025 (Brazil): 4.99%\n"
     ]
    },
    {
     "data": {
      "image/png": "[encoded data removed]",
      "text/plain": [
       "<Figure size 1000x600 with 1 Axes>"
      ]
     },
     "metadata": {},
     "output_type": "display_data"
    }
   ],
   "source": [
    "import pandas as pd\n",
    "import numpy as np\n",
    "import matplotlib.pyplot as plt\n",
    "from sklearn.ensemble import RandomForestRegressor\n",
    "\n",
    "# Sample placeholder (remove if df_long is already defined)\n",
    "# df_long = pd.read_csv(\"your_data.csv\")\n",
    "\n",
    "# ---- Input Section ----\n",
    "input_country = input(\"Enter the country name: \").strip()\n",
    "input_year = int(input(\"Enter the year (greater than 2024): \"))\n",
    "\n",
    "# ---- Filter the Data ----\n",
    "df_country = df_long[df_long['country_name'].str.lower() == input_country.lower()]\n",
    "\n",
    "if df_country.empty:\n",
    "    print(f\"❌ No data available for country: {input_country}\")\n",
    "else:\n",
    "    # ---- Prepare features and target ----\n",
    "    X = df_country[['year']]\n",
    "    y = df_country['inflation_rate']\n",
    "\n",
    "    # ---- Train the model ----\n",
    "    model = RandomForestRegressor(random_state=42)\n",
    "    model.fit(X, y)\n",
    "\n",
    "    # ---- Make prediction ----\n",
    "    future_df = pd.DataFrame({'year': [input_year]})\n",
    "    predicted_inflation = model.predict(future_df)\n",
    "\n",
    "    # ---- Output result ----\n",
    "    print(f\"📊 Expected inflation in {input_year} ({input_country.title()}): {predicted_inflation[0]:.2f}%\")\n",
    "\n",
    "    # ---- Prepare data for plotting ----\n",
    "    all_years = list(df_country['year']) + [input_year]\n",
    "    all_inflation = list(df_country['inflation_rate']) + [predicted_inflation[0]]\n",
    "\n",
    "    # ---- Plot the data ----\n",
    "    plt.figure(figsize=(10, 6))\n",
    "    plt.plot(df_country['year'], df_country['inflation_rate'], marker='o', label='Historical Data')\n",
    "    plt.plot(input_year, predicted_inflation[0], marker='x', markersize=10, color='red', label='Predicted Data')\n",
    "\n",
    "    plt.title(f\"Inflation Rate in {input_country.title()} (including prediction for {input_year})\")\n",
    "    plt.xlabel(\"Year\")\n",
    "    plt.ylabel(\"Inflation Rate (%)\")\n",
    "    plt.grid(True)\n",
    "    plt.legend()\n",
    "    plt.tight_layout()\n",
    "    plt.show()\n"
   ]
  },
  {
   "cell_type": "code",
   "execution_count": null,
   "id": "9bb9b24b-8ae9-45cd-b284-67951d134923",
   "metadata": {},
   "outputs": [],
   "source": []
  },
  {
   "cell_type": "code",
   "execution_count": null,
   "id": "fb1b298c-e673-42d3-935f-a59d67cb6465",
   "metadata": {},
   "outputs": [],
   "source": []
  },
  {
   "cell_type": "code",
   "execution_count": null,
   "id": "9548165b-d95a-4c40-ac36-0530e535190a",
   "metadata": {},
   "outputs": [],
   "source": []
  }
 ],
 "metadata": {
  "kernelspec": {
   "display_name": "Python 3 (ipykernel)",
   "language": "python",
   "name": "python3"
  },
  "language_info": {
   "codemirror_mode": {
    "name": "ipython",
    "version": 3
   },
   "file_extension": ".py",
   "mimetype": "text/x-python",
   "name": "python",
   "nbconvert_exporter": "python",
   "pygments_lexer": "ipython3",
   "version": "3.9.11"
  }
 },
 "nbformat": 4,
 "nbformat_minor": 5
}
